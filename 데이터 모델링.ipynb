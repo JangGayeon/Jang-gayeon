{
  "nbformat": 4,
  "nbformat_minor": 0,
  "metadata": {
    "colab": {
      "provenance": []
    },
    "kernelspec": {
      "name": "python3",
      "display_name": "Python 3"
    }
  },
  "cells": [
    {
      "cell_type": "code",
      "metadata": {
        "colab": {
          "base_uri": "https://localhost:8080/"
        },
        "id": "MgPXwRb_caHp",
        "outputId": "f053c38a-ad0c-4b8f-b0be-cda99de68123"
      },
      "source": [
        "# 데이터 읽어오기\n",
        "import numpy as np\n",
        "import pandas as pd\n",
        "df = pd.read_csv('http://phdphp.dothome.co.kr/data/ai/ex2.txt', header=None, names=[\"x0\",\"x1\",\"y\"])\n",
        "x0 = np.reshape(np.array(df['x0']), (-1, 1))\n",
        "x1 = np.reshape(np.array(df['x1']), (-1, 1))\n",
        "x = np.concatenate((x0, x1), axis=1)\n",
        "y = np.array(df['y'])\n",
        "\n",
        "print(x)"
      ],
      "execution_count": null,
      "outputs": [
        {
          "output_type": "stream",
          "text": [
            "[[3.9 1.6]\n",
            " [6.8 7.5]\n",
            " [5.7 4.5]\n",
            " [5.  4.4]\n",
            " [2.8 1.6]\n",
            " [2.8 6.5]\n",
            " [2.3 2.3]\n",
            " [6.3 4.2]\n",
            " [5.  6.7]\n",
            " [5.5 3.1]\n",
            " [2.1 2.5]\n",
            " [6.8 2.9]\n",
            " [6.2 3.5]\n",
            " [3.1 3.5]\n",
            " [2.9 4.4]\n",
            " [2.9 3.3]\n",
            " [3.5 3.3]\n",
            " [4.6 4. ]\n",
            " [4.2 1.2]\n",
            " [3.5 2. ]\n",
            " [5.1 4.1]\n",
            " [2.7 4.8]\n",
            " [3.5 4.1]\n",
            " [3.8 0.3]\n",
            " [4.3 4.9]\n",
            " [5.9 5.2]\n",
            " [3.  1.6]\n",
            " [4.6 5.8]\n",
            " [5.  7. ]\n",
            " [2.2 4.1]]\n"
          ],
          "name": "stdout"
        }
      ]
    },
    {
      "cell_type": "code",
      "metadata": {
        "colab": {
          "base_uri": "https://localhost:8080/",
          "height": 293
        },
        "id": "1nVdkVeic7QU",
        "outputId": "4fadd1cb-0969-4726-e899-b0e2b98df75e"
      },
      "source": [
        "# 데이터 확인하기\n",
        "import matplotlib.pyplot as plt\n",
        "plt.xlabel(\"x_0\", labelpad=10, fontsize=15)\n",
        "plt.ylabel(\"x_1\", labelpad=10, rotation=0, fontsize=15)\n",
        "\n",
        "plt.plot(x0[y==1], x1[y==1], \"bo\")\n",
        "plt.plot(x0[y==0], x1[y==0], \"ro\")\n",
        "plt.show()"
      ],
      "execution_count": null,
      "outputs": [
        {
          "output_type": "display_data",
          "data": {
            "image/png": "[encoded data removed]",
            "text/plain": [
              "<Figure size 432x288 with 1 Axes>"
            ]
          },
          "metadata": {
            "tags": [],
            "needs_background": "light"
          }
        }
      ]
    },
    {
      "cell_type": "code",
      "metadata": {
        "colab": {
          "base_uri": "https://localhost:8080/"
        },
        "id": "j0FKZsB-dugl",
        "outputId": "8bfdf4b7-0a84-4829-f9c3-77266efa6fb7"
      },
      "source": [
        "from sklearn.linear_model import SGDClassifier\n",
        "clf = SGDClassifier(loss = 'log', max_iter = 1000, eta0 = 0.01)\n",
        "clf.fit(x,y)"
      ],
      "execution_count": null,
      "outputs": [
        {
          "output_type": "execute_result",
          "data": {
            "text/plain": [
              "SGDClassifier(alpha=0.0001, average=False, class_weight=None,\n",
              "              early_stopping=False, epsilon=0.1, eta0=0.01, fit_intercept=True,\n",
              "              l1_ratio=0.15, learning_rate='optimal', loss='log', max_iter=1000,\n",
              "              n_iter_no_change=5, n_jobs=None, penalty='l2', power_t=0.5,\n",
              "              random_state=None, shuffle=True, tol=0.001,\n",
              "              validation_fraction=0.1, verbose=0, warm_start=False)"
            ]
          },
          "metadata": {
            "tags": []
          },
          "execution_count": 3
        }
      ]
    },
    {
      "cell_type": "code",
      "metadata": {
        "colab": {
          "base_uri": "https://localhost:8080/",
          "height": 293
        },
        "id": "Z7XWh7JydPBE",
        "outputId": "0b769a46-8dbd-427e-bfd5-000d9985f614"
      },
      "source": [
        "# 모델 학습 결과 확인하기\n",
        "\n",
        "plt.xlabel(\"x_0\", labelpad=10, fontsize=15)\n",
        "plt.ylabel(\"x_1\", labelpad=10, rotation=0, fontsize=15)\n",
        "\n",
        "plt.plot(x0[y==1], x1[y==1], \"bo\") # y=1인 데이터를 파란색 점으로 표시하기\n",
        "plt.plot(x0[y==0], x1[y==0], \"ro\") # y=0인 데이터를 빨간색 점으로 표시하기\n",
        "plt.plot(x0, (-clf.coef_[0][0] * x0 - clf.intercept_)/clf.coef_[0][1]) # 모델이 학습한 경계선을 그래프로 그리기\n",
        "plt.show()"
      ],
      "execution_count": null,
      "outputs": [
        {
          "output_type": "display_data",
          "data": {
            "image/png": "[encoded data removed]",
            "text/plain": [
              "<Figure size 432x288 with 1 Axes>"
            ]
          },
          "metadata": {
            "tags": [],
            "needs_background": "light"
          }
        }
      ]
    },
    {
      "cell_type": "code",
      "metadata": {
        "colab": {
          "base_uri": "https://localhost:8080/"
        },
        "id": "porik5vreUjt",
        "outputId": "dc565da4-caef-402b-e783-802fdbcd118b"
      },
      "source": [
        "x_new = np.array([[5.0, 3.5], [1.5, 4.0]])\n",
        "y_pred = clf.predict(x_new)\n",
        "print(y_pred)"
      ],
      "execution_count": null,
      "outputs": [
        {
          "output_type": "stream",
          "text": [
            "[0. 1.]\n"
          ],
          "name": "stdout"
        }
      ]
    },
    {
      "cell_type": "code",
      "metadata": {
        "colab": {
          "base_uri": "https://localhost:8080/"
        },
        "id": "Zto3diIJjZLl",
        "outputId": "27df0d51-72d7-40e4-8180-39963a9cb541"
      },
      "source": [
        "# 데이터 읽어오기\n",
        "import pandas as pd\n",
        "df = pd.read_csv('http://phdphp.dothome.co.kr/data/ai/ex2.txt', header=None, names=[\"x0\",\"x1\",\"y\"])\n",
        "x0 = np.reshape(np.array(df['x0']), (-1, 1))\n",
        "x1 = np.reshape(np.array(df['x1']), (-1, 1))\n",
        "x = np.concatenate((x0, x1), axis=1)\n",
        "y = np.array(df['y'])\n",
        "\n",
        "print(x)\n",
        "print('---------------------------------')\n",
        "print(y)"
      ],
      "execution_count": null,
      "outputs": [
        {
          "output_type": "stream",
          "text": [
            "[[3.9 1.6]\n",
            " [6.8 7.5]\n",
            " [5.7 4.5]\n",
            " [5.  4.4]\n",
            " [2.8 1.6]\n",
            " [2.8 6.5]\n",
            " [2.3 2.3]\n",
            " [6.3 4.2]\n",
            " [5.  6.7]\n",
            " [5.5 3.1]\n",
            " [2.1 2.5]\n",
            " [6.8 2.9]\n",
            " [6.2 3.5]\n",
            " [3.1 3.5]\n",
            " [2.9 4.4]\n",
            " [2.9 3.3]\n",
            " [3.5 3.3]\n",
            " [4.6 4. ]\n",
            " [4.2 1.2]\n",
            " [3.5 2. ]\n",
            " [5.1 4.1]\n",
            " [2.7 4.8]\n",
            " [3.5 4.1]\n",
            " [3.8 0.3]\n",
            " [4.3 4.9]\n",
            " [5.9 5.2]\n",
            " [3.  1.6]\n",
            " [4.6 5.8]\n",
            " [5.  7. ]\n",
            " [2.2 4.1]]\n",
            "---------------------------------\n",
            "[0. 1. 0. 0. 0. 1. 0. 0. 1. 0. 1. 0. 0. 1. 1. 1. 0. 0. 0. 0. 0. 1. 1. 0.\n",
            " 1. 0. 0. 1. 1. 1.]\n"
          ],
          "name": "stdout"
        }
      ]
    },
    {
      "cell_type": "code",
      "metadata": {
        "colab": {
          "base_uri": "https://localhost:8080/"
        },
        "id": "RJsehtjwjsrv",
        "outputId": "265a6933-14ce-4211-efd9-7b3f18549360"
      },
      "source": [
        "x.shape, y.shape"
      ],
      "execution_count": null,
      "outputs": [
        {
          "output_type": "execute_result",
          "data": {
            "text/plain": [
              "((30, 2), (30,))"
            ]
          },
          "metadata": {
            "tags": []
          },
          "execution_count": 7
        }
      ]
    },
    {
      "cell_type": "code",
      "metadata": {
        "id": "g6jhy8Olj9yy"
      },
      "source": [
        "from sklearn.model_selection import train_test_split"
      ],
      "execution_count": null,
      "outputs": []
    },
    {
      "cell_type": "code",
      "metadata": {
        "id": "WXQ9HCXij67b"
      },
      "source": [
        "x_train, x_test, y_train, y_test = train_test_split(x, y, test_size = 0.2, random_state = 7)"
      ],
      "execution_count": null,
      "outputs": []
    },
    {
      "cell_type": "code",
      "metadata": {
        "colab": {
          "base_uri": "https://localhost:8080/"
        },
        "id": "7QTpWfapkKEI",
        "outputId": "678993de-c00b-4e95-b191-8339573c4f60"
      },
      "source": [
        "x_train.shape, y_train.shape"
      ],
      "execution_count": null,
      "outputs": [
        {
          "output_type": "execute_result",
          "data": {
            "text/plain": [
              "((24, 2), (24,))"
            ]
          },
          "metadata": {
            "tags": []
          },
          "execution_count": 10
        }
      ]
    },
    {
      "cell_type": "code",
      "metadata": {
        "colab": {
          "base_uri": "https://localhost:8080/"
        },
        "id": "VriLLYMykUHT",
        "outputId": "2b62e45e-3ef4-4763-f0f7-8d68ee457ce5"
      },
      "source": [
        "x_test.shape, y_test.shape"
      ],
      "execution_count": null,
      "outputs": [
        {
          "output_type": "execute_result",
          "data": {
            "text/plain": [
              "((6, 2), (6,))"
            ]
          },
          "metadata": {
            "tags": []
          },
          "execution_count": 11
        }
      ]
    },
    {
      "cell_type": "code",
      "metadata": {
        "colab": {
          "base_uri": "https://localhost:8080/"
        },
        "id": "eEiFhGTtkleC",
        "outputId": "26552717-89e5-4d55-edc0-28f262b17437"
      },
      "source": [
        "# 모듈 추가하기\n",
        "from sklearn.linear_model import SGDClassifier\n",
        "# 모델 만들기\n",
        "clf = SGDClassifier(loss='log', max_iter=1000, eta0=0.01)\n",
        "# 모델 학습시키기\n",
        "clf.fit(x_train, y_train)"
      ],
      "execution_count": null,
      "outputs": [
        {
          "output_type": "execute_result",
          "data": {
            "text/plain": [
              "SGDClassifier(alpha=0.0001, average=False, class_weight=None,\n",
              "              early_stopping=False, epsilon=0.1, eta0=0.01, fit_intercept=True,\n",
              "              l1_ratio=0.15, learning_rate='optimal', loss='log', max_iter=1000,\n",
              "              n_iter_no_change=5, n_jobs=None, penalty='l2', power_t=0.5,\n",
              "              random_state=None, shuffle=True, tol=0.001,\n",
              "              validation_fraction=0.1, verbose=0, warm_start=False)"
            ]
          },
          "metadata": {
            "tags": []
          },
          "execution_count": 12
        }
      ]
    },
    {
      "cell_type": "code",
      "metadata": {
        "colab": {
          "base_uri": "https://localhost:8080/"
        },
        "id": "2wsWifGZlI6h",
        "outputId": "c1af3b89-ca49-466d-ca76-dfd2fb00332a"
      },
      "source": [
        "# 함수 추가하기\n",
        "from sklearn.metrics import accuracy_score\n",
        "# 모델 성능 측정하기\n",
        "accuracy_score(y_test, clf.predict(x_test))"
      ],
      "execution_count": null,
      "outputs": [
        {
          "output_type": "execute_result",
          "data": {
            "text/plain": [
              "1.0"
            ]
          },
          "metadata": {
            "tags": []
          },
          "execution_count": 13
        }
      ]
    },
    {
      "cell_type": "code",
      "metadata": {
        "colab": {
          "base_uri": "https://localhost:8080/",
          "height": 293
        },
        "id": "l6wVcWuRlM-1",
        "outputId": "923cd7f6-5789-4b8e-91de-644d8bfa4318"
      },
      "source": [
        "# 모델 학습 결과 확인하기\n",
        "plt.xlabel(\"x_0\", labelpad=10, fontsize=15)\n",
        "plt.ylabel(\"x_1\", labelpad=10, rotation=0, fontsize=15)\n",
        "\n",
        "plt.plot(x0[y==1], x1[y==1], \"bo\") # y=1인 데이터를 파란색 점으로 표시하기\n",
        "plt.plot(x0[y==0], x1[y==0], \"ro\") # y=0인 데이터를 빨간색 점으로 표시하기\n",
        "plt.plot(x0, (-clf.coef_[0][0] * x0 - clf.intercept_)/clf.coef_[0][1]) # 모델이 학습한 경계선을 그래프로 그리기\n",
        "plt.show()"
      ],
      "execution_count": null,
      "outputs": [
        {
          "output_type": "display_data",
          "data": {
            "image/png": "[encoded data removed]",
            "text/plain": [
              "<Figure size 432x288 with 1 Axes>"
            ]
          },
          "metadata": {
            "tags": [],
            "needs_background": "light"
          }
        }
      ]
    },
    {
      "cell_type": "code",
      "metadata": {
        "colab": {
          "base_uri": "https://localhost:8080/"
        },
        "id": "q6lZf_hIlczJ",
        "outputId": "9c5b8547-c306-4761-8993-e65e2e730e2a"
      },
      "source": [
        "# 모델 활용하기 (x0=5.0, x1=3.5, y=?), (x0=1.5, x1=4.0, y=?)\n",
        "x_new = np.array([[5.0, 3.5], [1.5, 4.0]]) # 새로운 데이터의 특성 배열 생성\n",
        "y_pred = clf.predict(x_new) # 모델의 분류 결과를 배열에 저장\n",
        "print(y_pred)"
      ],
      "execution_count": null,
      "outputs": [
        {
          "output_type": "stream",
          "text": [
            "[0. 1.]\n"
          ],
          "name": "stdout"
        }
      ]
    },
    {
      "cell_type": "code",
      "metadata": {
        "id": "-jlQmprCrN8S"
      },
      "source": [
        "from sklearn.linear_model import SGDRegressor\n",
        "from sklearn.model_selection import train_test_split\n",
        "from sklearn.metrics import mean_squared_error"
      ],
      "execution_count": null,
      "outputs": []
    },
    {
      "cell_type": "code",
      "metadata": {
        "id": "SB1w4Ud9rrSs"
      },
      "source": [
        "# 데이터 읽어오기\n",
        "import pandas as pd\n",
        "df = pd.read_csv('http://phdphp.dothome.co.kr/data/ai/ex3.txt', header=None, names=[\"x\",\"y\"])\n",
        "x = np.reshape(np.array(df['x']), (-1, 1))\n",
        "y = np.array(df['y'])"
      ],
      "execution_count": null,
      "outputs": []
    },
    {
      "cell_type": "code",
      "metadata": {
        "colab": {
          "base_uri": "https://localhost:8080/",
          "height": 290
        },
        "id": "7cHlm73xrt7F",
        "outputId": "0767fbe6-23fe-4fee-83fd-8a1b2f711808"
      },
      "source": [
        "# 데이터 확인하기\n",
        "plt.xlabel(\"x\", labelpad=10, fontsize=15)\n",
        "plt.ylabel(\"y\", labelpad=10, rotation=0, fontsize=15)\n",
        "plt.plot(x, y, \"y.\")\n",
        "plt.show()"
      ],
      "execution_count": null,
      "outputs": [
        {
          "output_type": "display_data",
          "data": {
            "image/png": "[encoded data removed]",
            "text/plain": [
              "<Figure size 432x288 with 1 Axes>"
            ]
          },
          "metadata": {
            "tags": [],
            "needs_background": "light"
          }
        }
      ]
    },
    {
      "cell_type": "code",
      "metadata": {
        "id": "EG-yYAI4rctx"
      },
      "source": [
        "x_train, x_test, y_train, y_test = train_test_split(x,y,test_size = 0.2, random_state = 10)"
      ],
      "execution_count": null,
      "outputs": []
    },
    {
      "cell_type": "code",
      "metadata": {
        "colab": {
          "base_uri": "https://localhost:8080/"
        },
        "id": "iRUT2Fzhr_0w",
        "outputId": "109c87a1-375f-4579-ce09-4824d9390460"
      },
      "source": [
        "reg = SGDRegressor(max_iter = 1000, penalty = None, eta0 = 0.01)\n",
        "reg.fit(x_train, y_train.ravel())"
      ],
      "execution_count": null,
      "outputs": [
        {
          "output_type": "execute_result",
          "data": {
            "text/plain": [
              "SGDRegressor(alpha=0.0001, average=False, early_stopping=False, epsilon=0.1,\n",
              "             eta0=0.01, fit_intercept=True, l1_ratio=0.15,\n",
              "             learning_rate='invscaling', loss='squared_loss', max_iter=1000,\n",
              "             n_iter_no_change=5, penalty=None, power_t=0.25, random_state=None,\n",
              "             shuffle=True, tol=0.001, validation_fraction=0.1, verbose=0,\n",
              "             warm_start=False)"
            ]
          },
          "metadata": {
            "tags": []
          },
          "execution_count": 22
        }
      ]
    },
    {
      "cell_type": "code",
      "metadata": {
        "colab": {
          "base_uri": "https://localhost:8080/"
        },
        "id": "SMBfmoVzshhT",
        "outputId": "9d5f9731-459c-4646-8242-dce55c6338d8"
      },
      "source": [
        "# 모델 성능 측정하기\n",
        "mean_squared_error(y_test, reg.predict(x_test))"
      ],
      "execution_count": null,
      "outputs": [
        {
          "output_type": "execute_result",
          "data": {
            "text/plain": [
              "1.8646125086526115"
            ]
          },
          "metadata": {
            "tags": []
          },
          "execution_count": 23
        }
      ]
    },
    {
      "cell_type": "code",
      "metadata": {
        "id": "BFMUvtp5sQ3b"
      },
      "source": [
        "train_size = []\n",
        "mse_train = []\n",
        "mse_test = []\n",
        "for t in range(1,81,10):\n",
        "  reg = SGDRegressor(max_iter = 1000, penalty = None, eta0 = 0.01)\n",
        "  reg.fit(x_train[:t], y_train[:t].ravel())\n",
        "  train_size.append(t)\n",
        "  mse_train.append(mean_squared_error(y_train[:t], reg.predict(x_train[:t])))\n",
        "  mse_test.append(mean_squared_error(y_test, reg.predict(x_test)))\n",
        "#print(t)"
      ],
      "execution_count": null,
      "outputs": []
    },
    {
      "cell_type": "code",
      "metadata": {
        "colab": {
          "base_uri": "https://localhost:8080/",
          "height": 945
        },
        "id": "8eEcTcJTvYwT",
        "outputId": "112d9f04-826f-4fa1-807b-81d11725d3bd"
      },
      "source": [
        "# 학습 곡선 확인하기\n",
        "plt.xlabel(\"학습 세트의 크기\", labelpad=10, fontsize=15)\n",
        "plt.ylabel(\"오차(MSE)\", labelpad=10, fontsize=15)\n",
        "plt.plot(train_size, mse_train, \"y-\")\n",
        "plt.plot(train_size, mse_test, \"b-\")"
      ],
      "execution_count": null,
      "outputs": [
        {
          "output_type": "execute_result",
          "data": {
            "text/plain": [
              "[<matplotlib.lines.Line2D at 0x7fb3bbaaf0f0>]"
            ]
          },
          "metadata": {
            "tags": []
          },
          "execution_count": 26
        },
        {
          "output_type": "stream",
          "text": [
            "/usr/local/lib/python3.6/dist-packages/matplotlib/backends/backend_agg.py:214: RuntimeWarning: Glyph 54617 missing from current font.\n",
            "  font.set_text(s, 0.0, flags=flags)\n",
            "/usr/local/lib/python3.6/dist-packages/matplotlib/backends/backend_agg.py:214: RuntimeWarning: Glyph 49845 missing from current font.\n",
            "  font.set_text(s, 0.0, flags=flags)\n",
            "/usr/local/lib/python3.6/dist-packages/matplotlib/backends/backend_agg.py:214: RuntimeWarning: Glyph 49464 missing from current font.\n",
            "  font.set_text(s, 0.0, flags=flags)\n",
            "/usr/local/lib/python3.6/dist-packages/matplotlib/backends/backend_agg.py:214: RuntimeWarning: Glyph 53944 missing from current font.\n",
            "  font.set_text(s, 0.0, flags=flags)\n",
            "/usr/local/lib/python3.6/dist-packages/matplotlib/backends/backend_agg.py:214: RuntimeWarning: Glyph 51032 missing from current font.\n",
            "  font.set_text(s, 0.0, flags=flags)\n",
            "/usr/local/lib/python3.6/dist-packages/matplotlib/backends/backend_agg.py:214: RuntimeWarning: Glyph 53356 missing from current font.\n",
            "  font.set_text(s, 0.0, flags=flags)\n",
            "/usr/local/lib/python3.6/dist-packages/matplotlib/backends/backend_agg.py:214: RuntimeWarning: Glyph 44592 missing from current font.\n",
            "  font.set_text(s, 0.0, flags=flags)\n",
            "/usr/local/lib/python3.6/dist-packages/matplotlib/backends/backend_agg.py:183: RuntimeWarning: Glyph 54617 missing from current font.\n",
            "  font.set_text(s, 0, flags=flags)\n",
            "/usr/local/lib/python3.6/dist-packages/matplotlib/backends/backend_agg.py:183: RuntimeWarning: Glyph 49845 missing from current font.\n",
            "  font.set_text(s, 0, flags=flags)\n",
            "/usr/local/lib/python3.6/dist-packages/matplotlib/backends/backend_agg.py:183: RuntimeWarning: Glyph 49464 missing from current font.\n",
            "  font.set_text(s, 0, flags=flags)\n",
            "/usr/local/lib/python3.6/dist-packages/matplotlib/backends/backend_agg.py:183: RuntimeWarning: Glyph 53944 missing from current font.\n",
            "  font.set_text(s, 0, flags=flags)\n",
            "/usr/local/lib/python3.6/dist-packages/matplotlib/backends/backend_agg.py:183: RuntimeWarning: Glyph 51032 missing from current font.\n",
            "  font.set_text(s, 0, flags=flags)\n",
            "/usr/local/lib/python3.6/dist-packages/matplotlib/backends/backend_agg.py:183: RuntimeWarning: Glyph 53356 missing from current font.\n",
            "  font.set_text(s, 0, flags=flags)\n",
            "/usr/local/lib/python3.6/dist-packages/matplotlib/backends/backend_agg.py:183: RuntimeWarning: Glyph 44592 missing from current font.\n",
            "  font.set_text(s, 0, flags=flags)\n",
            "/usr/local/lib/python3.6/dist-packages/matplotlib/backends/backend_agg.py:214: RuntimeWarning: Glyph 50724 missing from current font.\n",
            "  font.set_text(s, 0.0, flags=flags)\n",
            "/usr/local/lib/python3.6/dist-packages/matplotlib/backends/backend_agg.py:214: RuntimeWarning: Glyph 52264 missing from current font.\n",
            "  font.set_text(s, 0.0, flags=flags)\n",
            "/usr/local/lib/python3.6/dist-packages/matplotlib/backends/backend_agg.py:183: RuntimeWarning: Glyph 50724 missing from current font.\n",
            "  font.set_text(s, 0, flags=flags)\n",
            "/usr/local/lib/python3.6/dist-packages/matplotlib/backends/backend_agg.py:183: RuntimeWarning: Glyph 52264 missing from current font.\n",
            "  font.set_text(s, 0, flags=flags)\n"
          ],
          "name": "stderr"
        },
        {
          "output_type": "display_data",
          "data": {
            "image/png": "[encoded data removed]",
            "text/plain": [
              "<Figure size 432x288 with 1 Axes>"
            ]
          },
          "metadata": {
            "tags": [],
            "needs_background": "light"
          }
        }
      ]
    }
  ]
}